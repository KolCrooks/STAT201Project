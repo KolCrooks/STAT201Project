{
 "cells": [
  {
   "cell_type": "code",
   "execution_count": 1,
   "id": "93242a44-57e0-4075-be94-08697b946eba",
   "metadata": {},
   "outputs": [
    {
     "name": "stderr",
     "output_type": "stream",
     "text": [
      "Installing packages into ‘/home/kolcr/R/x86_64-pc-linux-gnu-library/4.1’\n",
      "(as ‘lib’ is unspecified)\n",
      "\n",
      "also installing the dependencies ‘rappdirs’, ‘data.table’, ‘cli’, ‘gargle’, ‘ids’, ‘rematch2’, ‘rlang’, ‘ellipsis’, ‘vctrs’, ‘dtplyr’, ‘googledrive’, ‘googlesheets4’, ‘pillar’\n",
      "\n",
      "\n"
     ]
    }
   ],
   "source": [
    "install.packages(c(\"cowplot\",\n",
    "\"digest\",\n",
    "\"infer\",\n",
    "\"repr\",\n",
    "\"tidyverse\",\n",
    "\"dplyr\"))"
   ]
  },
  {
   "cell_type": "code",
   "execution_count": 5,
   "id": "0aba537f-3396-4f56-97fd-980f11536b0c",
   "metadata": {},
   "outputs": [
    {
     "data": {
      "text/html": [
       "<table class=\"dataframe\">\n",
       "<caption>A data.frame: 6 × 24</caption>\n",
       "<thead>\n",
       "\t<tr><th></th><th scope=col>prop</th><th scope=col>max.hr</th><th scope=col>resting.hr</th><th scope=col>max.restinghr</th><th scope=col>peakbps</th><th scope=col>peakbpd</th><th scope=col>restbpd</th><th scope=col>max.restingbpd</th><th scope=col>X</th><th scope=col>prop.1</th><th scope=col>⋯</th><th scope=col>peakbpd.1</th><th scope=col>restbpd.1</th><th scope=col>max.restingbpd.1</th><th scope=col>X.1</th><th scope=col>X.2</th><th scope=col>Max.HR</th><th scope=col>Max...Resting.HR</th><th scope=col>Peak.BPS</th><th scope=col>Peak.BPD</th><th scope=col>Max...Resting.Average.BP</th></tr>\n",
       "\t<tr><th></th><th scope=col>&lt;int&gt;</th><th scope=col>&lt;int&gt;</th><th scope=col>&lt;int&gt;</th><th scope=col>&lt;int&gt;</th><th scope=col>&lt;int&gt;</th><th scope=col>&lt;int&gt;</th><th scope=col>&lt;int&gt;</th><th scope=col>&lt;dbl&gt;</th><th scope=col>&lt;lgl&gt;</th><th scope=col>&lt;int&gt;</th><th scope=col>⋯</th><th scope=col>&lt;int&gt;</th><th scope=col>&lt;int&gt;</th><th scope=col>&lt;dbl&gt;</th><th scope=col>&lt;lgl&gt;</th><th scope=col>&lt;chr&gt;</th><th scope=col>&lt;dbl&gt;</th><th scope=col>&lt;dbl&gt;</th><th scope=col>&lt;dbl&gt;</th><th scope=col>&lt;dbl&gt;</th><th scope=col>&lt;dbl&gt;</th></tr>\n",
       "</thead>\n",
       "<tbody>\n",
       "\t<tr><th scope=row>1</th><td>0</td><td>150</td><td>60</td><td> 90</td><td>190</td><td>90</td><td> 85</td><td>55.0</td><td>NA</td><td>1</td><td>⋯</td><td> 90</td><td> 90</td><td> 35.0</td><td>NA</td><td>t-test </td><td>1.059170e-07</td><td>1.536030e-30</td><td>  0.07091353</td><td> 0.1699155</td><td>3.085300e-25</td></tr>\n",
       "\t<tr><th scope=row>2</th><td>0</td><td>172</td><td>71</td><td>101</td><td>160</td><td>74</td><td> 86</td><td>31.0</td><td>NA</td><td>1</td><td>⋯</td><td> 80</td><td> 80</td><td> 30.0</td><td>NA</td><td>no prop</td><td>1.552527e+02</td><td>7.717742e+01</td><td>169.98924730</td><td>78.0268817</td><td>3.921774e+01</td></tr>\n",
       "\t<tr><th scope=row>3</th><td>0</td><td>178</td><td>73</td><td>105</td><td>165</td><td>70</td><td> 75</td><td>42.5</td><td>NA</td><td>1</td><td>⋯</td><td> 68</td><td> 78</td><td> 53.5</td><td>NA</td><td>prop   </td><td>1.391170e+02</td><td>3.539785e+01</td><td>164.46808510</td><td>80.2978723</td><td>1.872043e+01</td></tr>\n",
       "\t<tr><th scope=row>4</th><td>0</td><td>160</td><td>83</td><td> 77</td><td>180</td><td>84</td><td>100</td><td>32.0</td><td>NA</td><td>1</td><td>⋯</td><td> 70</td><td>105</td><td>-10.0</td><td>NA</td><td>       </td><td>          NA</td><td>          NA</td><td>          NA</td><td>        NA</td><td>          NA</td></tr>\n",
       "\t<tr><th scope=row>5</th><td>0</td><td>163</td><td>84</td><td> 79</td><td>165</td><td>80</td><td> 80</td><td>42.5</td><td>NA</td><td>1</td><td>⋯</td><td>120</td><td>100</td><td> 52.5</td><td>NA</td><td>       </td><td>          NA</td><td>          NA</td><td>          NA</td><td>        NA</td><td>          NA</td></tr>\n",
       "\t<tr><th scope=row>6</th><td>0</td><td>148</td><td>86</td><td> 62</td><td>180</td><td>75</td><td> 90</td><td>37.5</td><td>NA</td><td>1</td><td>⋯</td><td>118</td><td>100</td><td> 61.0</td><td>NA</td><td>       </td><td>          NA</td><td>          NA</td><td>          NA</td><td>        NA</td><td>          NA</td></tr>\n",
       "</tbody>\n",
       "</table>\n"
      ],
      "text/latex": [
       "A data.frame: 6 × 24\n",
       "\\begin{tabular}{r|lllllllllllllllllllll}\n",
       "  & prop & max.hr & resting.hr & max.restinghr & peakbps & peakbpd & restbpd & max.restingbpd & X & prop.1 & ⋯ & peakbpd.1 & restbpd.1 & max.restingbpd.1 & X.1 & X.2 & Max.HR & Max...Resting.HR & Peak.BPS & Peak.BPD & Max...Resting.Average.BP\\\\\n",
       "  & <int> & <int> & <int> & <int> & <int> & <int> & <int> & <dbl> & <lgl> & <int> & ⋯ & <int> & <int> & <dbl> & <lgl> & <chr> & <dbl> & <dbl> & <dbl> & <dbl> & <dbl>\\\\\n",
       "\\hline\n",
       "\t1 & 0 & 150 & 60 &  90 & 190 & 90 &  85 & 55.0 & NA & 1 & ⋯ &  90 &  90 &  35.0 & NA & t-test  & 1.059170e-07 & 1.536030e-30 &   0.07091353 &  0.1699155 & 3.085300e-25\\\\\n",
       "\t2 & 0 & 172 & 71 & 101 & 160 & 74 &  86 & 31.0 & NA & 1 & ⋯ &  80 &  80 &  30.0 & NA & no prop & 1.552527e+02 & 7.717742e+01 & 169.98924730 & 78.0268817 & 3.921774e+01\\\\\n",
       "\t3 & 0 & 178 & 73 & 105 & 165 & 70 &  75 & 42.5 & NA & 1 & ⋯ &  68 &  78 &  53.5 & NA & prop    & 1.391170e+02 & 3.539785e+01 & 164.46808510 & 80.2978723 & 1.872043e+01\\\\\n",
       "\t4 & 0 & 160 & 83 &  77 & 180 & 84 & 100 & 32.0 & NA & 1 & ⋯ &  70 & 105 & -10.0 & NA &         &           NA &           NA &           NA &         NA &           NA\\\\\n",
       "\t5 & 0 & 163 & 84 &  79 & 165 & 80 &  80 & 42.5 & NA & 1 & ⋯ & 120 & 100 &  52.5 & NA &         &           NA &           NA &           NA &         NA &           NA\\\\\n",
       "\t6 & 0 & 148 & 86 &  62 & 180 & 75 &  90 & 37.5 & NA & 1 & ⋯ & 118 & 100 &  61.0 & NA &         &           NA &           NA &           NA &         NA &           NA\\\\\n",
       "\\end{tabular}\n"
      ],
      "text/markdown": [
       "\n",
       "A data.frame: 6 × 24\n",
       "\n",
       "| <!--/--> | prop &lt;int&gt; | max.hr &lt;int&gt; | resting.hr &lt;int&gt; | max.restinghr &lt;int&gt; | peakbps &lt;int&gt; | peakbpd &lt;int&gt; | restbpd &lt;int&gt; | max.restingbpd &lt;dbl&gt; | X &lt;lgl&gt; | prop.1 &lt;int&gt; | ⋯ ⋯ | peakbpd.1 &lt;int&gt; | restbpd.1 &lt;int&gt; | max.restingbpd.1 &lt;dbl&gt; | X.1 &lt;lgl&gt; | X.2 &lt;chr&gt; | Max.HR &lt;dbl&gt; | Max...Resting.HR &lt;dbl&gt; | Peak.BPS &lt;dbl&gt; | Peak.BPD &lt;dbl&gt; | Max...Resting.Average.BP &lt;dbl&gt; |\n",
       "|---|---|---|---|---|---|---|---|---|---|---|---|---|---|---|---|---|---|---|---|---|---|\n",
       "| 1 | 0 | 150 | 60 |  90 | 190 | 90 |  85 | 55.0 | NA | 1 | ⋯ |  90 |  90 |  35.0 | NA | t-test  | 1.059170e-07 | 1.536030e-30 |   0.07091353 |  0.1699155 | 3.085300e-25 |\n",
       "| 2 | 0 | 172 | 71 | 101 | 160 | 74 |  86 | 31.0 | NA | 1 | ⋯ |  80 |  80 |  30.0 | NA | no prop | 1.552527e+02 | 7.717742e+01 | 169.98924730 | 78.0268817 | 3.921774e+01 |\n",
       "| 3 | 0 | 178 | 73 | 105 | 165 | 70 |  75 | 42.5 | NA | 1 | ⋯ |  68 |  78 |  53.5 | NA | prop    | 1.391170e+02 | 3.539785e+01 | 164.46808510 | 80.2978723 | 1.872043e+01 |\n",
       "| 4 | 0 | 160 | 83 |  77 | 180 | 84 | 100 | 32.0 | NA | 1 | ⋯ |  70 | 105 | -10.0 | NA | <!----> |           NA |           NA |           NA |         NA |           NA |\n",
       "| 5 | 0 | 163 | 84 |  79 | 165 | 80 |  80 | 42.5 | NA | 1 | ⋯ | 120 | 100 |  52.5 | NA | <!----> |           NA |           NA |           NA |         NA |           NA |\n",
       "| 6 | 0 | 148 | 86 |  62 | 180 | 75 |  90 | 37.5 | NA | 1 | ⋯ | 118 | 100 |  61.0 | NA | <!----> |           NA |           NA |           NA |         NA |           NA |\n",
       "\n"
      ],
      "text/plain": [
       "  prop max.hr resting.hr max.restinghr peakbps peakbpd restbpd max.restingbpd\n",
       "1 0    150    60          90           190     90       85     55.0          \n",
       "2 0    172    71         101           160     74       86     31.0          \n",
       "3 0    178    73         105           165     70       75     42.5          \n",
       "4 0    160    83          77           180     84      100     32.0          \n",
       "5 0    163    84          79           165     80       80     42.5          \n",
       "6 0    148    86          62           180     75       90     37.5          \n",
       "  X  prop.1 ⋯ peakbpd.1 restbpd.1 max.restingbpd.1 X.1 X.2     Max.HR      \n",
       "1 NA 1      ⋯  90        90        35.0            NA  t-test  1.059170e-07\n",
       "2 NA 1      ⋯  80        80        30.0            NA  no prop 1.552527e+02\n",
       "3 NA 1      ⋯  68        78        53.5            NA  prop    1.391170e+02\n",
       "4 NA 1      ⋯  70       105       -10.0            NA                    NA\n",
       "5 NA 1      ⋯ 120       100        52.5            NA                    NA\n",
       "6 NA 1      ⋯ 118       100        61.0            NA                    NA\n",
       "  Max...Resting.HR Peak.BPS     Peak.BPD   Max...Resting.Average.BP\n",
       "1 1.536030e-30       0.07091353  0.1699155 3.085300e-25            \n",
       "2 7.717742e+01     169.98924730 78.0268817 3.921774e+01            \n",
       "3 3.539785e+01     164.46808510 80.2978723 1.872043e+01            \n",
       "4           NA               NA         NA           NA            \n",
       "5           NA               NA         NA           NA            \n",
       "6           NA               NA         NA           NA            "
      ]
     },
     "metadata": {},
     "output_type": "display_data"
    }
   ],
   "source": [
    "cleveland <- read.csv('https://raw.githubusercontent.com/KolCrooks/STAT201Project/master/clevelanddata_mod.csv')\n",
    "\n",
    "head(cleveland)"
   ]
  },
  {
   "cell_type": "markdown",
   "id": "dde686de-059e-43f8-85d9-ec30e54ede84",
   "metadata": {},
   "source": [
    "# Some grand title\n",
    "\n",
    "- 500 words (about 1 page)\n",
    "- identifies the dataset they plan to work on\n",
    "- question they would like to answer using that dataset for their group project.\n",
    "- in a Jupyter notebook, and then submitted both as an .html file (File → Download As → HTML) and an .ipynb file that is reproducible (i.e. works and runs without any additional files).\n",
    "\n",
    "Only one member of your team needs to submit. \n",
    "## Introduction\n",
    "\n",
    "- provide some relevant background information on the topic so that someone unfamiliar with it will understand your proposal.\n",
    "- Clearly state the question you will try to answer with your project.\n",
    "- One random variable of interest, spread across two or more categories that are interesting to compare.\n",
    " - examples, consider the annual maxima river flow at two different locations along a river\n",
    " - gender diversity at different universities.\n",
    "- Of the response variable, identify one location parameter (mean, median, quantile, etc.) and one scale parameter (standard deviation, inter-quartile range, etc.) that would be useful in answering your question.\n",
    "- Justify your choices.\n",
    "- Identify and describe the dataset that will be used to answer the question.\n",
    "- this dataset is allowed to contain more variables than you need – feel free to drop them!\n",
    "- Also, be sure to frame your question/objectives in terms of what is already known in the literature.\n",
    "- Be sure to include at least two scientific publications that can help frame your study (you will need to include these in the References section).\n",
    "\n",
    "---You must submit two files:\n",
    "\n",
    "- the source Jupyter notebook (.ipynb file)\n",
    "\n",
    "- the rendered final document (.html file)\n",
    "\n",
    "---"
   ]
  },
  {
   "cell_type": "markdown",
   "id": "e85505ac-fc3c-40dd-9e1c-b015b478bb8f",
   "metadata": {},
   "source": [
    "\n",
    "## Introduction\n",
    "\n",
    "- provide some relevant background information on the topic so that someone unfamiliar with it will understand your proposal.\n",
    "- Clearly state the question you will try to answer with your project.\n",
    "- One random variable of interest, spread across two or more categories that are interesting to compare.\n",
    " - examples, consider the annual maxima river flow at two different locations along a river\n",
    " - gender diversity at different universities.\n",
    "- Of the response variable, identify one location parameter (mean, median, quantile, etc.) and one scale parameter (standard deviation, inter-quartile range, etc.) that would be useful in answering your question.\n",
    "- Justify your choices.\n",
    "- Identify and describe the dataset that will be used to answer the question.\n",
    "- this dataset is allowed to contain more variables than you need – feel free to drop them!\n",
    "- Also, be sure to frame your question/objectives in terms of what is already known in the literature.\n",
    "- Be sure to include at least two scientific publications that can help frame your study (you will need to include these in the References section).\n",
    "\n",
    "---"
   ]
  },
  {
   "cell_type": "markdown",
   "id": "770ca679-3fd7-4126-af8e-2e5c1fc4b408",
   "metadata": {},
   "source": [
    "## Preliminary Results\n",
    "\n",
    "- Demonstrate that the dataset can be read from the web into R.\n",
    "- Clean and wrangle your data into a tidy format.\n",
    "- Plot the relevant raw data, tailoring your plot in a way that\n",
    "- addresses your question.\n",
    "- Compute estimates of the parameter you identified across your groups. Present this in a table. If relevant, include these estimates in your plot.\n",
    "- Be sure to not print output that takes up a lot of screen space.\n",
    "\n",
    "---"
   ]
  },
  {
   "cell_type": "markdown",
   "id": "7d1cbfed-133b-44ce-849f-576d54bb0909",
   "metadata": {},
   "source": [
    "\n",
    "\n",
    "## Methods: Plan\n",
    "\n",
    "The previous sections will carry over to your final report (you’ll be allowed to improve them based on feedback you get). Begin this Methods section with a brief description of “the good things” about this report – specifically, in what ways is this report trustworthy?\n",
    "\n",
    "Continue by explaining why the plot(s) and estimates that you produced are not enough to give to a stakeholder, and what you should provide in addition to address this gap. Make sure your plans include at least one hypothesis test and one confidence interval, with at least one of these being calculated using both bootstrapping and asymptotics for comparison.\n",
    "\n",
    "Finish this section by reflecting on how your final report might play out:\n",
    "\n",
    "What do you expect to find?\n",
    "\n",
    "What impact could such findings have?\n",
    "\n",
    "What future questions could this lead to?\n",
    "\n",
    "---\n"
   ]
  },
  {
   "cell_type": "markdown",
   "id": "e538be07-8e89-4268-9e32-2fdd0b43d10f",
   "metadata": {},
   "source": [
    "## References\n",
    "\n",
    "At least two citations of literature relevant to the project. The citation format is your choice – just be consistent. Make sure to cite the source of your data as well."
   ]
  },
  {
   "cell_type": "code",
   "execution_count": null,
   "id": "0f76ca4c-ec8d-4e3d-b5a2-002dcd047eb0",
   "metadata": {},
   "outputs": [],
   "source": []
  }
 ],
 "metadata": {
  "kernelspec": {
   "display_name": "R",
   "language": "R",
   "name": "ir"
  },
  "language_info": {
   "codemirror_mode": "r",
   "file_extension": ".r",
   "mimetype": "text/x-r-source",
   "name": "R",
   "pygments_lexer": "r",
   "version": "4.1.0"
  }
 },
 "nbformat": 4,
 "nbformat_minor": 5
}
