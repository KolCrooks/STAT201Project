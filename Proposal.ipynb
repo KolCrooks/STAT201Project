{
 "cells": [
  {
   "cell_type": "code",
   "execution_count": 1,
   "id": "93242a44-57e0-4075-be94-08697b946eba",
   "metadata": {},
   "outputs": [
    {
     "name": "stderr",
     "output_type": "stream",
     "text": [
      "Installing packages into ‘/home/kolcr/R/x86_64-pc-linux-gnu-library/4.1’\n",
      "(as ‘lib’ is unspecified)\n",
      "\n",
      "also installing the dependencies ‘rappdirs’, ‘data.table’, ‘cli’, ‘gargle’, ‘ids’, ‘rematch2’, ‘rlang’, ‘ellipsis’, ‘vctrs’, ‘dtplyr’, ‘googledrive’, ‘googlesheets4’, ‘pillar’\n",
      "\n",
      "\n"
     ]
    }
   ],
   "source": [
    "install.packages(c(\"cowplot\",\n",
    "\"digest\",\n",
    "\"infer\",\n",
    "\"repr\",\n",
    "\"tidyverse\",\n",
    "\"dplyr\"))"
   ]
  },
  {
   "cell_type": "code",
   "execution_count": null,
   "id": "0aba537f-3396-4f56-97fd-980f11536b0c",
   "metadata": {},
   "outputs": [],
   "source": []
  }
 ],
 "metadata": {
  "kernelspec": {
   "display_name": "R",
   "language": "R",
   "name": "ir"
  },
  "language_info": {
   "codemirror_mode": "r",
   "file_extension": ".r",
   "mimetype": "text/x-r-source",
   "name": "R",
   "pygments_lexer": "r",
   "version": "4.1.0"
  }
 },
 "nbformat": 4,
 "nbformat_minor": 5
}
