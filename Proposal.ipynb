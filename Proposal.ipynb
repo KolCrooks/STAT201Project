{
 "cells": [
  {
   "cell_type": "code",
   "execution_count": 2,
   "id": "93242a44-57e0-4075-be94-08697b946eba",
   "metadata": {},
   "outputs": [
    {
     "name": "stderr",
     "output_type": "stream",
     "text": [
      "Installing packages into ‘/home/kolcr/R/x86_64-pc-linux-gnu-library/4.1’\n",
      "(as ‘lib’ is unspecified)\n",
      "\n"
     ]
    }
   ],
   "source": [
    "install.packages(c(\"cowplot\",\n",
    "\"digest\",\n",
    "\"infer\",\n",
    "\"repr\",\n",
    "\"tidyverse\",\n",
    "\"dplyr\",\n",
    "                  \"pillar\"))\n"
   ]
  },
  {
   "cell_type": "code",
   "execution_count": 33,
   "id": "34be23a7-56eb-46b0-b445-7cdd6702e58d",
   "metadata": {},
   "outputs": [
    {
     "name": "stderr",
     "output_type": "stream",
     "text": [
      "Removing package from ‘/home/kolcr/R/x86_64-pc-linux-gnu-library/4.1’\n",
      "(as ‘lib’ is unspecified)\n",
      "\n"
     ]
    }
   ],
   "source": []
  },
  {
   "cell_type": "code",
   "execution_count": 4,
   "id": "20adc895-ce40-425b-8b00-f5675807a01e",
   "metadata": {},
   "outputs": [
    {
     "ename": "ERROR",
     "evalue": "Error: package or namespace load failed for ‘tidyverse’ in loadNamespace(j <- i[[1L]], c(lib.loc, .libPaths()), versionCheck = vI[[j]]):\n namespace ‘pillar’ 1.5.1 is already loaded, but >= 1.6.0 is required\n",
     "output_type": "error",
     "traceback": [
      "Error: package or namespace load failed for ‘tidyverse’ in loadNamespace(j <- i[[1L]], c(lib.loc, .libPaths()), versionCheck = vI[[j]]):\n namespace ‘pillar’ 1.5.1 is already loaded, but >= 1.6.0 is required\nTraceback:\n",
      "1. library(tidyverse)",
      "2. tryCatch({\n .     attr(package, \"LibPath\") <- which.lib.loc\n .     ns <- loadNamespace(package, lib.loc)\n .     env <- attachNamespace(ns, pos = pos, deps, exclude, include.only)\n . }, error = function(e) {\n .     P <- if (!is.null(cc <- conditionCall(e))) \n .         paste(\" in\", deparse(cc)[1L])\n .     else \"\"\n .     msg <- gettextf(\"package or namespace load failed for %s%s:\\n %s\", \n .         sQuote(package), P, conditionMessage(e))\n .     if (logical.return) \n .         message(paste(\"Error:\", msg), domain = NA)\n .     else stop(msg, call. = FALSE, domain = NA)\n . })",
      "3. tryCatchList(expr, classes, parentenv, handlers)",
      "4. tryCatchOne(expr, names, parentenv, handlers[[1L]])",
      "5. value[[3L]](cond)",
      "6. stop(msg, call. = FALSE, domain = NA)"
     ]
    }
   ],
   "source": [
    "library(cowplot)\n",
    "library(digest)\n",
    "library(infer)\n",
    "library(repr)\n",
    "library(tidyverse)\n",
    "library(dplyr)"
   ]
  },
  {
   "cell_type": "code",
   "execution_count": 5,
   "id": "0aba537f-3396-4f56-97fd-980f11536b0c",
   "metadata": {},
   "outputs": [
    {
     "ename": "ERROR",
     "evalue": "Error in eval(expr, envir, enclos): object 'patients' not found\n",
     "output_type": "error",
     "traceback": [
      "Error in eval(expr, envir, enclos): object 'patients' not found\nTraceback:\n"
     ]
    }
   ],
   "source": [
    "\n",
    "hungarian <- read.delim('https://archive.ics.uci.edu/ml/machine-learning-databases/heart-disease/hungarian.data', header = FALSE, sep = \" \")\n",
    "patients \n",
    "for(i in 1:nrow(hungarian)) {\n",
    "    row <- hungarian[i,]\n",
    "    for(i in row)\n",
    "        if(!is.na(i))\n",
    "            print(i)\n",
    "}"
   ]
  },
  {
   "cell_type": "markdown",
   "id": "dde686de-059e-43f8-85d9-ec30e54ede84",
   "metadata": {},
   "source": [
    "# Some grand title\n",
    "\n",
    "- 500 words (about 1 page)\n",
    "- identifies the dataset they plan to work on\n",
    "- question they would like to answer using that dataset for their group project.\n",
    "- in a Jupyter notebook, and then submitted both as an .html file (File → Download As → HTML) and an .ipynb file that is reproducible (i.e. works and runs without any additional files).\n",
    "\n",
    "Only one member of your team needs to submit. \n",
    "## Introduction\n",
    "\n",
    "- provide some relevant background information on the topic so that someone unfamiliar with it will understand your proposal.\n",
    "- Clearly state the question you will try to answer with your project.\n",
    "- One random variable of interest, spread across two or more categories that are interesting to compare.\n",
    " - examples, consider the annual maxima river flow at two different locations along a river\n",
    " - gender diversity at different universities.\n",
    "- Of the response variable, identify one location parameter (mean, median, quantile, etc.) and one scale parameter (standard deviation, inter-quartile range, etc.) that would be useful in answering your question.\n",
    "- Justify your choices.\n",
    "- Identify and describe the dataset that will be used to answer the question.\n",
    "- this dataset is allowed to contain more variables than you need – feel free to drop them!\n",
    "- Also, be sure to frame your question/objectives in terms of what is already known in the literature.\n",
    "- Be sure to include at least two scientific publications that can help frame your study (you will need to include these in the References section).\n",
    "\n",
    "---You must submit two files:\n",
    "\n",
    "- the source Jupyter notebook (.ipynb file)\n",
    "\n",
    "- the rendered final document (.html file)\n",
    "\n",
    "---"
   ]
  },
  {
   "cell_type": "markdown",
   "id": "e85505ac-fc3c-40dd-9e1c-b015b478bb8f",
   "metadata": {},
   "source": [
    "\n",
    "## Introduction\n",
    "\n",
    "- provide some relevant background information on the topic so that someone unfamiliar with it will understand your proposal.\n",
    "- Clearly state the question you will try to answer with your project.\n",
    "- One random variable of interest, spread across two or more categories that are interesting to compare.\n",
    " - examples, consider the annual maxima river flow at two different locations along a river\n",
    " - gender diversity at different universities.\n",
    "- Of the response variable, identify one location parameter (mean, median, quantile, etc.) and one scale parameter (standard deviation, inter-quartile range, etc.) that would be useful in answering your question.\n",
    "- Justify your choices.\n",
    "- Identify and describe the dataset that will be used to answer the question.\n",
    "- this dataset is allowed to contain more variables than you need – feel free to drop them!\n",
    "- Also, be sure to frame your question/objectives in terms of what is already known in the literature.\n",
    "- Be sure to include at least two scientific publications that can help frame your study (you will need to include these in the References section).\n",
    "\n",
    "---"
   ]
  },
  {
   "cell_type": "markdown",
   "id": "770ca679-3fd7-4126-af8e-2e5c1fc4b408",
   "metadata": {},
   "source": [
    "## Preliminary Results\n",
    "\n",
    "- Demonstrate that the dataset can be read from the web into R.\n",
    "- Clean and wrangle your data into a tidy format.\n",
    "- Plot the relevant raw data, tailoring your plot in a way that\n",
    "- addresses your question.\n",
    "- Compute estimates of the parameter you identified across your groups. Present this in a table. If relevant, include these estimates in your plot.\n",
    "- Be sure to not print output that takes up a lot of screen space.\n",
    "\n"
   ]
  },
  {
   "cell_type": "code",
   "execution_count": null,
   "id": "c6f955c4-c5a7-4345-8aff-947050a2ba1e",
   "metadata": {},
   "outputs": [],
   "source": []
  },
  {
   "cell_type": "markdown",
   "id": "7d1cbfed-133b-44ce-849f-576d54bb0909",
   "metadata": {},
   "source": [
    "\n",
    "---\n",
    "## Methods: Plan\n",
    "\n",
    "The previous sections will carry over to your final report (you’ll be allowed to improve them based on feedback you get). Begin this Methods section with a brief description of “the good things” about this report – specifically, in what ways is this report trustworthy?\n",
    "\n",
    "Continue by explaining why the plot(s) and estimates that you produced are not enough to give to a stakeholder, and what you should provide in addition to address this gap. Make sure your plans include at least one hypothesis test and one confidence interval, with at least one of these being calculated using both bootstrapping and asymptotics for comparison.\n",
    "\n",
    "Finish this section by reflecting on how your final report might play out:\n",
    "\n",
    "What do you expect to find?\n",
    "\n",
    "What impact could such findings have?\n",
    "\n",
    "What future questions could this lead to?\n",
    "\n",
    "---\n"
   ]
  },
  {
   "cell_type": "markdown",
   "id": "e538be07-8e89-4268-9e32-2fdd0b43d10f",
   "metadata": {},
   "source": [
    "## References\n",
    "\n",
    "At least two citations of literature relevant to the project. The citation format is your choice – just be consistent. Make sure to cite the source of your data as well."
   ]
  },
  {
   "cell_type": "code",
   "execution_count": null,
   "id": "0f76ca4c-ec8d-4e3d-b5a2-002dcd047eb0",
   "metadata": {},
   "outputs": [],
   "source": []
  }
 ],
 "metadata": {
  "kernelspec": {
   "display_name": "R",
   "language": "R",
   "name": "ir"
  },
  "language_info": {
   "codemirror_mode": "r",
   "file_extension": ".r",
   "mimetype": "text/x-r-source",
   "name": "R",
   "pygments_lexer": "r",
   "version": "4.1.0"
  }
 },
 "nbformat": 4,
 "nbformat_minor": 5
}
