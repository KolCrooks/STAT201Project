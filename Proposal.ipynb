{
 "cells": [
  {
   "cell_type": "code",
   "execution_count": 1,
   "source": [
    "install.packages(c(\"cowplot\",\n",
    "\"digest\",\n",
    "\"infer\",\n",
    "\"repr\",\n",
    "\"tidyverse\",\n",
    "\"dplyr\",\n",
    "\"pillar\"))\n"
   ],
   "outputs": [
    {
     "output_type": "stream",
     "name": "stderr",
     "text": [
      "Installing packages into ‘/home/kolcr/R/x86_64-pc-linux-gnu-library/4.1’\n",
      "(as ‘lib’ is unspecified)\n",
      "\n"
     ]
    }
   ],
   "metadata": {}
  },
  {
   "cell_type": "code",
   "execution_count": null,
   "source": [],
   "outputs": [],
   "metadata": {}
  },
  {
   "cell_type": "code",
   "execution_count": 2,
   "source": [
    "library(cowplot)\n",
    "library(digest)\n",
    "library(infer)\n",
    "library(repr)\n",
    "library(tidyverse)\n",
    "library(dplyr)"
   ],
   "outputs": [
    {
     "output_type": "stream",
     "name": "stderr",
     "text": [
      "── \u001b[1mAttaching packages\u001b[22m ─────────────────────────────────────── tidyverse 1.3.1 ──\n",
      "\n",
      "\u001b[32m✔\u001b[39m \u001b[34mggplot2\u001b[39m 3.3.3     \u001b[32m✔\u001b[39m \u001b[34mpurrr  \u001b[39m 0.3.4\n",
      "\u001b[32m✔\u001b[39m \u001b[34mtibble \u001b[39m 3.1.0     \u001b[32m✔\u001b[39m \u001b[34mdplyr  \u001b[39m 1.0.7\n",
      "\u001b[32m✔\u001b[39m \u001b[34mtidyr  \u001b[39m 1.1.3     \u001b[32m✔\u001b[39m \u001b[34mstringr\u001b[39m 1.4.0\n",
      "\u001b[32m✔\u001b[39m \u001b[34mreadr  \u001b[39m 1.4.0     \u001b[32m✔\u001b[39m \u001b[34mforcats\u001b[39m 0.5.1\n",
      "\n",
      "── \u001b[1mConflicts\u001b[22m ────────────────────────────────────────── tidyverse_conflicts() ──\n",
      "\u001b[31m✖\u001b[39m \u001b[34mdplyr\u001b[39m::\u001b[32mfilter()\u001b[39m masks \u001b[34mstats\u001b[39m::filter()\n",
      "\u001b[31m✖\u001b[39m \u001b[34mdplyr\u001b[39m::\u001b[32mlag()\u001b[39m    masks \u001b[34mstats\u001b[39m::lag()\n",
      "\n"
     ]
    }
   ],
   "metadata": {}
  },
  {
   "cell_type": "code",
   "execution_count": 7,
   "source": [
    "\n",
    "cleveland <- read.delim('https://archive.ics.uci.edu/ml/machine-learning-databases/heart-disease/cleveland.data', header = FALSE, sep = \" \")\n",
    "cols <- c(24, 32, 76) # used beta blockers?, maxiumum heart rate, name (for data validation)\n",
    "total_cols <- 76\n",
    "flattened <- c()\n",
    "\n",
    "cleaned_cleveland <- tibble(\n",
    "  beta_blockers = factor(),\n",
    "  max_heart_rate = numeric(),\n",
    "  name = character()\n",
    ")\n",
    "\n",
    "for(i in 1:nrow(cleveland)) {\n",
    "    row <- unname(unlist(cleveland[i,]))\n",
    "    row <- row[row != \"\"]\n",
    "    flattened = c(flattened, row)\n",
    "}\n",
    "for(i in 0:length(flattened)){\n",
    "    bb = as.factor(flattened[cols[1] + i*total_cols])\n",
    "    mhr = as.numeric(flattened[cols[2] + i*total_cols])\n",
    "    if(is.na(bb) | is.na(mhr) | mhr > 300) break\n",
    "\n",
    "    if((bb == -9) | (mhr == -9)) {\n",
    "      next\n",
    "    }\n",
    "\n",
    "    cleaned_cleveland <- cleaned_cleveland %>%\n",
    "        add_row(beta_blockers  = bb,\n",
    "                max_heart_rate = mhr,\n",
    "                name           = flattened[cols[3] + i*total_cols])\n",
    "}\n",
    "cleaned_cleveland <- cleaned_cleveland %>%\n",
    "    filter(name == \"name\") %>%\n",
    "    select(-name)\n",
    "head(cleaned_cleveland)"
   ],
   "outputs": [
    {
     "output_type": "stream",
     "name": "stderr",
     "text": [
      "Warning message in scan(file = file, what = what, sep = sep, quote = quote, dec = dec, :\n",
      "“embedded nul(s) found in input”\n"
     ]
    },
    {
     "output_type": "display_data",
     "data": {
      "text/plain": [
       "  beta_blockers max_heart_rate\n",
       "1 0             150           \n",
       "2 1             108           \n",
       "3 1             129           \n",
       "4 1             187           \n",
       "5 0             172           \n",
       "6 0             178           "
      ],
      "text/markdown": [
       "\n",
       "A tibble: 6 × 2\n",
       "\n",
       "| beta_blockers &lt;fct&gt; | max_heart_rate &lt;dbl&gt; |\n",
       "|---|---|\n",
       "| 0 | 150 |\n",
       "| 1 | 108 |\n",
       "| 1 | 129 |\n",
       "| 1 | 187 |\n",
       "| 0 | 172 |\n",
       "| 0 | 178 |\n",
       "\n"
      ],
      "text/latex": [
       "A tibble: 6 × 2\n",
       "\\begin{tabular}{ll}\n",
       " beta\\_blockers & max\\_heart\\_rate\\\\\n",
       " <fct> & <dbl>\\\\\n",
       "\\hline\n",
       "\t 0 & 150\\\\\n",
       "\t 1 & 108\\\\\n",
       "\t 1 & 129\\\\\n",
       "\t 1 & 187\\\\\n",
       "\t 0 & 172\\\\\n",
       "\t 0 & 178\\\\\n",
       "\\end{tabular}\n"
      ],
      "text/html": [
       "<table class=\"dataframe\">\n",
       "<caption>A tibble: 6 × 2</caption>\n",
       "<thead>\n",
       "\t<tr><th scope=col>beta_blockers</th><th scope=col>max_heart_rate</th></tr>\n",
       "\t<tr><th scope=col>&lt;fct&gt;</th><th scope=col>&lt;dbl&gt;</th></tr>\n",
       "</thead>\n",
       "<tbody>\n",
       "\t<tr><td>0</td><td>150</td></tr>\n",
       "\t<tr><td>1</td><td>108</td></tr>\n",
       "\t<tr><td>1</td><td>129</td></tr>\n",
       "\t<tr><td>1</td><td>187</td></tr>\n",
       "\t<tr><td>0</td><td>172</td></tr>\n",
       "\t<tr><td>0</td><td>178</td></tr>\n",
       "</tbody>\n",
       "</table>\n"
      ]
     },
     "metadata": {}
    }
   ],
   "metadata": {}
  },
  {
   "cell_type": "code",
   "execution_count": 8,
   "source": [
    "cleaned_cleveland %>%\n",
    "    ggplot(aes(x = beta_blockers, y = max_heart_rate)) +\n",
    "    geom_boxplot()"
   ],
   "outputs": [
    {
     "output_type": "display_data",
     "data": {
      "text/plain": [
       "plot without title"
      ],
      "image/png": "[encoded data removed]"
     },
     "metadata": {
      "image/png": {
       "width": 420,
       "height": 420
      }
     }
    }
   ],
   "metadata": {}
  },
  {
   "cell_type": "markdown",
   "source": [
    "# Some grand title\n",
    "\n",
    "- 500 words (about 1 page)\n",
    "- identifies the dataset they plan to work on\n",
    "- question they would like to answer using that dataset for their group project.\n",
    "- in a Jupyter notebook, and then submitted both as an .html file (File → Download As → HTML) and an .ipynb file that is reproducible (i.e. works and runs without any additional files).\n",
    "\n",
    "Only one member of your team needs to submit. \n",
    "## Introduction\n",
    "\n",
    "- provide some relevant background information on the topic so that someone unfamiliar with it will understand your proposal.\n",
    "- Clearly state the question you will try to answer with your project.\n",
    "- One random variable of interest, spread across two or more categories that are interesting to compare.\n",
    " - examples, consider the annual maxima river flow at two different locations along a river\n",
    " - gender diversity at different universities.\n",
    "- Of the response variable, identify one location parameter (mean, median, quantile, etc.) and one scale parameter (standard deviation, inter-quartile range, etc.) that would be useful in answering your question.\n",
    "- Justify your choices.\n",
    "- Identify and describe the dataset that will be used to answer the question.\n",
    "- this dataset is allowed to contain more variables than you need – feel free to drop them!\n",
    "- Also, be sure to frame your question/objectives in terms of what is already known in the literature.\n",
    "- Be sure to include at least two scientific publications that can help frame your study (you will need to include these in the References section).\n",
    "\n",
    "---You must submit two files:\n",
    "\n",
    "- the source Jupyter notebook (.ipynb file)\n",
    "\n",
    "- the rendered final document (.html file)\n",
    "\n",
    "---"
   ],
   "metadata": {}
  },
  {
   "cell_type": "markdown",
   "source": [
    "\n",
    "## Introduction\n",
    "\n",
    "- provide some relevant background information on the topic so that someone unfamiliar with it will understand your proposal.\n",
    "- Clearly state the question you will try to answer with your project.\n",
    "- One random variable of interest, spread across two or more categories that are interesting to compare.\n",
    " - examples, consider the annual maxima river flow at two different locations along a river\n",
    " - gender diversity at different universities.\n",
    "- Of the response variable, identify one location parameter (mean, median, quantile, etc.) and one scale parameter (standard deviation, inter-quartile range, etc.) that would be useful in answering your question.\n",
    "- Justify your choices.\n",
    "- Identify and describe the dataset that will be used to answer the question.\n",
    "- this dataset is allowed to contain more variables than you need – feel free to drop them!\n",
    "- Also, be sure to frame your question/objectives in terms of what is already known in the literature.\n",
    "- Be sure to include at least two scientific publications that can help frame your study (you will need to include these in the References section).\n",
    "\n",
    "---"
   ],
   "metadata": {}
  },
  {
   "cell_type": "markdown",
   "source": [
    "## Preliminary Results\n",
    "\n",
    "- Demonstrate that the dataset can be read from the web into R.\n",
    "- Clean and wrangle your data into a tidy format.\n",
    "- Plot the relevant raw data, tailoring your plot in a way that\n",
    "- addresses your question.\n",
    "- Compute estimates of the parameter you identified across your groups. Present this in a table. If relevant, include these estimates in your plot.\n",
    "- Be sure to not print output that takes up a lot of screen space.\n",
    "\n"
   ],
   "metadata": {}
  },
  {
   "cell_type": "code",
   "execution_count": null,
   "source": [],
   "outputs": [],
   "metadata": {}
  },
  {
   "cell_type": "markdown",
   "source": [
    "\n",
    "---\n",
    "## Methods: Plan\n",
    "\n",
    "The previous sections will carry over to your final report (you’ll be allowed to improve them based on feedback you get). Begin this Methods section with a brief description of “the good things” about this report – specifically, in what ways is this report trustworthy?\n",
    "\n",
    "Continue by explaining why the plot(s) and estimates that you produced are not enough to give to a stakeholder, and what you should provide in addition to address this gap. Make sure your plans include at least one hypothesis test and one confidence interval, with at least one of these being calculated using both bootstrapping and asymptotics for comparison.\n",
    "\n",
    "Finish this section by reflecting on how your final report might play out:\n",
    "\n",
    "What do you expect to find?\n",
    "\n",
    "What impact could such findings have?\n",
    "\n",
    "What future questions could this lead to?\n",
    "\n",
    "---\n"
   ],
   "metadata": {}
  },
  {
   "cell_type": "markdown",
   "source": [
    "## References\n",
    "\n",
    "At least two citations of literature relevant to the project. The citation format is your choice – just be consistent. Make sure to cite the source of your data as well."
   ],
   "metadata": {}
  },
  {
   "cell_type": "code",
   "execution_count": null,
   "source": [],
   "outputs": [],
   "metadata": {}
  }
 ],
 "metadata": {
  "kernelspec": {
   "display_name": "R",
   "language": "R",
   "name": "ir"
  },
  "language_info": {
   "codemirror_mode": "r",
   "file_extension": ".r",
   "mimetype": "text/x-r-source",
   "name": "R",
   "pygments_lexer": "r",
   "version": "4.1.0"
  }
 },
 "nbformat": 4,
 "nbformat_minor": 5
}